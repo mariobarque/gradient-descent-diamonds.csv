{
  "nbformat": 4,
  "nbformat_minor": 0,
  "metadata": {
    "colab": {
      "name": "Gradient Descent with diamonds.csv",
      "version": "0.3.2",
      "provenance": [],
      "collapsed_sections": []
    },
    "kernelspec": {
      "name": "python3",
      "display_name": "Python 3"
    }
  },
  "cells": [
    {
      "metadata": {
        "id": "ZmRgNPQITcNb",
        "colab_type": "text"
      },
      "cell_type": "markdown",
      "source": [
        "# Gradient Descent with diamonds.csv\n"
      ]
    },
    {
      "metadata": {
        "id": "ERm37BsSTtXu",
        "colab_type": "text"
      },
      "cell_type": "markdown",
      "source": [
        "# Diamonds dataset\n",
        "\n",
        "This is just an example of running gradient descent with diamonds data set. This dataset it taken from Kaggle: https://www.kaggle.com/shivam2503/diamonds.\n",
        "\n",
        "First step is to just observe the data and try to understand the meaning of different columns."
      ]
    },
    {
      "metadata": {
        "id": "kisS6LRardd-",
        "colab_type": "code",
        "outputId": "f6c52295-8344-4bb1-ea48-f12adc6ed979",
        "colab": {
          "base_uri": "https://localhost:8080/",
          "height": 118
        }
      },
      "cell_type": "code",
      "source": [
        "import numpy as np\n",
        "import pandas as pd\n",
        "import io\n",
        "import requests\n",
        "import matplotlib.pyplot as plt\n",
        "\n",
        "\n",
        "df = pd.read_csv('https://raw.githubusercontent.com/tidyverse/ggplot2/master/data-raw/diamonds.csv')\n",
        "print(df.head())"
      ],
      "execution_count": 0,
      "outputs": [
        {
          "output_type": "stream",
          "text": [
            "   carat      cut color clarity  depth  table  price     x     y     z\n",
            "0   0.23    Ideal     E     SI2   61.5   55.0    326  3.95  3.98  2.43\n",
            "1   0.21  Premium     E     SI1   59.8   61.0    326  3.89  3.84  2.31\n",
            "2   0.23     Good     E     VS1   56.9   65.0    327  4.05  4.07  2.31\n",
            "3   0.29  Premium     I     VS2   62.4   58.0    334  4.20  4.23  2.63\n",
            "4   0.31     Good     J     SI2   63.3   58.0    335  4.34  4.35  2.75\n"
          ],
          "name": "stdout"
        }
      ]
    },
    {
      "metadata": {
        "id": "t4RMypHwVPJE",
        "colab_type": "text"
      },
      "cell_type": "markdown",
      "source": [
        "## Observation\n",
        "\n",
        "We can see that the column we want to predict using gradient descent is the price of diamond.\n",
        "\n",
        "We see that there are three columns that are categorical data: cut, clarity and color. We should convert this into numbers to make it possible to analyze. Based on Kaggle information we can assign some numerical values or weights to each category.\n",
        "\n",
        "Once these columns have numerical values, we do the correlation to observe which columns are more correlated to others."
      ]
    },
    {
      "metadata": {
        "id": "MvgXA-XkVO2X",
        "colab_type": "code",
        "outputId": "f5e7a5ec-3724-414b-e712-f81e393106a0",
        "colab": {
          "base_uri": "https://localhost:8080/",
          "height": 343
        }
      },
      "cell_type": "code",
      "source": [
        "# se convierten las columnas categóricas en columnas numéricas\n",
        "cut = {'Fair':1,'Good':2,'Very Good':3,'Premium':4,'Ideal':5}\n",
        "clarity = {'I1':1, 'SI2':2,'SI1':3,'VS2':4,'VS1':5,'VVS2':6,'VVS1':7,'IF':8}\n",
        "color = {'J':1,'I':2,'H':3,'G':4,'F':5,'E':6,'D':7, }\n",
        "\n",
        "df['cut'].replace(cut, inplace=True)\n",
        "df['clarity'].replace(clarity, inplace=True)\n",
        "df['color'].replace(color, inplace=True)\n",
        "\n",
        "df.corr()"
      ],
      "execution_count": 0,
      "outputs": [
        {
          "output_type": "execute_result",
          "data": {
            "text/html": [
              "<div>\n",
              "<style scoped>\n",
              "    .dataframe tbody tr th:only-of-type {\n",
              "        vertical-align: middle;\n",
              "    }\n",
              "\n",
              "    .dataframe tbody tr th {\n",
              "        vertical-align: top;\n",
              "    }\n",
              "\n",
              "    .dataframe thead th {\n",
              "        text-align: right;\n",
              "    }\n",
              "</style>\n",
              "<table border=\"1\" class=\"dataframe\">\n",
              "  <thead>\n",
              "    <tr style=\"text-align: right;\">\n",
              "      <th></th>\n",
              "      <th>carat</th>\n",
              "      <th>cut</th>\n",
              "      <th>color</th>\n",
              "      <th>clarity</th>\n",
              "      <th>depth</th>\n",
              "      <th>table</th>\n",
              "      <th>price</th>\n",
              "      <th>x</th>\n",
              "      <th>y</th>\n",
              "      <th>z</th>\n",
              "    </tr>\n",
              "  </thead>\n",
              "  <tbody>\n",
              "    <tr>\n",
              "      <th>carat</th>\n",
              "      <td>1.000000</td>\n",
              "      <td>-0.134967</td>\n",
              "      <td>-0.291437</td>\n",
              "      <td>-0.352841</td>\n",
              "      <td>0.028224</td>\n",
              "      <td>0.181618</td>\n",
              "      <td>0.921591</td>\n",
              "      <td>0.975094</td>\n",
              "      <td>0.951722</td>\n",
              "      <td>0.953387</td>\n",
              "    </tr>\n",
              "    <tr>\n",
              "      <th>cut</th>\n",
              "      <td>-0.134967</td>\n",
              "      <td>1.000000</td>\n",
              "      <td>0.020519</td>\n",
              "      <td>0.189175</td>\n",
              "      <td>-0.218055</td>\n",
              "      <td>-0.433405</td>\n",
              "      <td>-0.053491</td>\n",
              "      <td>-0.125565</td>\n",
              "      <td>-0.121462</td>\n",
              "      <td>-0.149323</td>\n",
              "    </tr>\n",
              "    <tr>\n",
              "      <th>color</th>\n",
              "      <td>-0.291437</td>\n",
              "      <td>0.020519</td>\n",
              "      <td>1.000000</td>\n",
              "      <td>-0.025631</td>\n",
              "      <td>-0.047279</td>\n",
              "      <td>-0.026465</td>\n",
              "      <td>-0.172511</td>\n",
              "      <td>-0.270287</td>\n",
              "      <td>-0.263584</td>\n",
              "      <td>-0.268227</td>\n",
              "    </tr>\n",
              "    <tr>\n",
              "      <th>clarity</th>\n",
              "      <td>-0.352841</td>\n",
              "      <td>0.189175</td>\n",
              "      <td>-0.025631</td>\n",
              "      <td>1.000000</td>\n",
              "      <td>-0.067384</td>\n",
              "      <td>-0.160327</td>\n",
              "      <td>-0.146800</td>\n",
              "      <td>-0.371999</td>\n",
              "      <td>-0.358420</td>\n",
              "      <td>-0.366952</td>\n",
              "    </tr>\n",
              "    <tr>\n",
              "      <th>depth</th>\n",
              "      <td>0.028224</td>\n",
              "      <td>-0.218055</td>\n",
              "      <td>-0.047279</td>\n",
              "      <td>-0.067384</td>\n",
              "      <td>1.000000</td>\n",
              "      <td>-0.295779</td>\n",
              "      <td>-0.010647</td>\n",
              "      <td>-0.025289</td>\n",
              "      <td>-0.029341</td>\n",
              "      <td>0.094924</td>\n",
              "    </tr>\n",
              "    <tr>\n",
              "      <th>table</th>\n",
              "      <td>0.181618</td>\n",
              "      <td>-0.433405</td>\n",
              "      <td>-0.026465</td>\n",
              "      <td>-0.160327</td>\n",
              "      <td>-0.295779</td>\n",
              "      <td>1.000000</td>\n",
              "      <td>0.127134</td>\n",
              "      <td>0.195344</td>\n",
              "      <td>0.183760</td>\n",
              "      <td>0.150929</td>\n",
              "    </tr>\n",
              "    <tr>\n",
              "      <th>price</th>\n",
              "      <td>0.921591</td>\n",
              "      <td>-0.053491</td>\n",
              "      <td>-0.172511</td>\n",
              "      <td>-0.146800</td>\n",
              "      <td>-0.010647</td>\n",
              "      <td>0.127134</td>\n",
              "      <td>1.000000</td>\n",
              "      <td>0.884435</td>\n",
              "      <td>0.865421</td>\n",
              "      <td>0.861249</td>\n",
              "    </tr>\n",
              "    <tr>\n",
              "      <th>x</th>\n",
              "      <td>0.975094</td>\n",
              "      <td>-0.125565</td>\n",
              "      <td>-0.270287</td>\n",
              "      <td>-0.371999</td>\n",
              "      <td>-0.025289</td>\n",
              "      <td>0.195344</td>\n",
              "      <td>0.884435</td>\n",
              "      <td>1.000000</td>\n",
              "      <td>0.974701</td>\n",
              "      <td>0.970772</td>\n",
              "    </tr>\n",
              "    <tr>\n",
              "      <th>y</th>\n",
              "      <td>0.951722</td>\n",
              "      <td>-0.121462</td>\n",
              "      <td>-0.263584</td>\n",
              "      <td>-0.358420</td>\n",
              "      <td>-0.029341</td>\n",
              "      <td>0.183760</td>\n",
              "      <td>0.865421</td>\n",
              "      <td>0.974701</td>\n",
              "      <td>1.000000</td>\n",
              "      <td>0.952006</td>\n",
              "    </tr>\n",
              "    <tr>\n",
              "      <th>z</th>\n",
              "      <td>0.953387</td>\n",
              "      <td>-0.149323</td>\n",
              "      <td>-0.268227</td>\n",
              "      <td>-0.366952</td>\n",
              "      <td>0.094924</td>\n",
              "      <td>0.150929</td>\n",
              "      <td>0.861249</td>\n",
              "      <td>0.970772</td>\n",
              "      <td>0.952006</td>\n",
              "      <td>1.000000</td>\n",
              "    </tr>\n",
              "  </tbody>\n",
              "</table>\n",
              "</div>"
            ],
            "text/plain": [
              "            carat       cut     color   clarity     depth     table     price  \\\n",
              "carat    1.000000 -0.134967 -0.291437 -0.352841  0.028224  0.181618  0.921591   \n",
              "cut     -0.134967  1.000000  0.020519  0.189175 -0.218055 -0.433405 -0.053491   \n",
              "color   -0.291437  0.020519  1.000000 -0.025631 -0.047279 -0.026465 -0.172511   \n",
              "clarity -0.352841  0.189175 -0.025631  1.000000 -0.067384 -0.160327 -0.146800   \n",
              "depth    0.028224 -0.218055 -0.047279 -0.067384  1.000000 -0.295779 -0.010647   \n",
              "table    0.181618 -0.433405 -0.026465 -0.160327 -0.295779  1.000000  0.127134   \n",
              "price    0.921591 -0.053491 -0.172511 -0.146800 -0.010647  0.127134  1.000000   \n",
              "x        0.975094 -0.125565 -0.270287 -0.371999 -0.025289  0.195344  0.884435   \n",
              "y        0.951722 -0.121462 -0.263584 -0.358420 -0.029341  0.183760  0.865421   \n",
              "z        0.953387 -0.149323 -0.268227 -0.366952  0.094924  0.150929  0.861249   \n",
              "\n",
              "                x         y         z  \n",
              "carat    0.975094  0.951722  0.953387  \n",
              "cut     -0.125565 -0.121462 -0.149323  \n",
              "color   -0.270287 -0.263584 -0.268227  \n",
              "clarity -0.371999 -0.358420 -0.366952  \n",
              "depth   -0.025289 -0.029341  0.094924  \n",
              "table    0.195344  0.183760  0.150929  \n",
              "price    0.884435  0.865421  0.861249  \n",
              "x        1.000000  0.974701  0.970772  \n",
              "y        0.974701  1.000000  0.952006  \n",
              "z        0.970772  0.952006  1.000000  "
            ]
          },
          "metadata": {
            "tags": []
          },
          "execution_count": 2
        }
      ]
    },
    {
      "metadata": {
        "id": "dbI3S2PfWNhV",
        "colab_type": "text"
      },
      "cell_type": "markdown",
      "source": [
        "## Analysis\n",
        "\n",
        "Based on the correlation we can observe that the value that is more related to the price is the carat. But also other columns related to the diamond size have high correlation. So, let's used all values in this model.\n",
        "\n",
        "Let's put this problem in the following way: $A\\vec{x}=b$. Where $A$ is the whole matrix, $b$ is the price, and $\\vec{x}$ is the vector with the weights we want to find the minimum using gradient descent.\n",
        "\n",
        "Also, let's use half of the matrix to do the training and the other half to test the model."
      ]
    },
    {
      "metadata": {
        "id": "jhX7IrhqWa_j",
        "colab_type": "code",
        "colab": {}
      },
      "cell_type": "code",
      "source": [
        "train_size = int((df.shape[0])/2)\n",
        "matrix = df.as_matrix()\n",
        "\n",
        "A_train = matrix[0:train_size,[0,1,2,3,4,5,7,8,9]]\n",
        "b_train = matrix[0:train_size,6]\n",
        "\n",
        "A_test = matrix[train_size:-1,[0,1,2,3,4,5,7,8,9]]\n",
        "b_test = matrix[train_size:-1,6]\n",
        "\n",
        "# se inicializan m y n, como las filas y las columnas de A\n",
        "m, n = np.shape(A_train)\n",
        "\n",
        "# se inicializa como puros unos\n",
        "x = np.ones(n)"
      ],
      "execution_count": 0,
      "outputs": []
    },
    {
      "metadata": {
        "id": "LO6CZ5olVQbW",
        "colab_type": "text"
      },
      "cell_type": "markdown",
      "source": [
        "# Model\n",
        "\n",
        "Before implementing the model using python, let's normalize the data $A$ using the mean normalization."
      ]
    },
    {
      "metadata": {
        "id": "ttPBntaicv6s",
        "colab_type": "code",
        "colab": {}
      },
      "cell_type": "code",
      "source": [
        "# mean normalization\n",
        "def normalize(matrix_to_normalize):\n",
        "  normalized = np.array(matrix_to_normalize, dtype=np.float)\n",
        "  for i in range(n):\n",
        "    col = np.array(normalized[:,i])\n",
        "    normalized[:,i] = (col - np.amin(col)) / \\\n",
        "                       (np.amax(col) - np.amin(col))\n",
        "    \n",
        "  return normalized\n",
        "\n",
        "A_train = normalize(A_train)"
      ],
      "execution_count": 0,
      "outputs": []
    },
    {
      "metadata": {
        "id": "jn-FVtX8b6Lq",
        "colab_type": "text"
      },
      "cell_type": "markdown",
      "source": [
        "## Gradient descent implementation\n",
        "\n",
        "It's known gradient descent is an iterative function to find the minimun, where the next value is determined by the current value plus a coeficient alpha $\\alpha$ of the derivative of the funtion, the following way:\n",
        "\n",
        "\\begin{equation}\n",
        "x\\left(t+1\\right)=x\\left(t\\right)+\\alpha f'\\left(x\\left(t\\right)\\right)\n",
        "\\end{equation}\n",
        "\n",
        "Where function $f$ is called cost function. \n",
        "\n",
        "If we use the hypothesis of a linear regression fucntion, we have the folowing hypothesis *h*: \n",
        "\n",
        "\\begin{equation}\n",
        "h_{a} = a_{1}x_{1} +a_{2}x_{2} + .. + a_{n}x_{n}\n",
        "\\end{equation}\n",
        "\n",
        "Note that ***h***  can be represented as the product of a matrix  $A$ and and the weights vector $x$ as follows:  $np.dot(A, x)$ using numpy.\n",
        "\n",
        "Then, if we iterate $n$ times, the gradient descent function hopefully will converge to the minimum.\n",
        "\n",
        "Let's create a based method for gradient descent with the following parameters:\n",
        "\n",
        "*   $A$: The matrix with all train data\n",
        "*   $b$: The vector with the prices\n",
        "*   $x$: The weights we want to predict\n",
        "*   $alpha$: The learning rate\n",
        "*   $m$: The number of rows matrix $A$ has\n",
        "*   $maxiteration$: The number of iterations we want to put as a limit\n",
        "*   $cost func$ The cost function\n",
        "*   $gradient func$ The gradient function\n",
        "*   $alfa func$ The function to find $\\alpha$ because we want to change alpha as the gradient descent is running.\n",
        "\n"
      ]
    },
    {
      "metadata": {
        "id": "g1TXxzP4cglb",
        "colab_type": "code",
        "colab": {}
      },
      "cell_type": "code",
      "source": [
        "def populate_error_cost_hist(error_hist, cost_hist, i, cost, error, first_cost, first_error):    \n",
        "  error_percent = (error/first_error) * 100;\n",
        "  cost_percent = (cost/first_cost) * 100;\n",
        "\n",
        "  error_hist.append(error_percent)\n",
        "  cost_hist.append(cost_percent)  \n",
        "  \n",
        "\n",
        "def gradient_descent(A, b, x, alpha, m, max_iteration, cost_fuc, gradient_func, alfa_func, debug_info = False):\n",
        "    ATrans = A.transpose()\n",
        "    error_hist = []\n",
        "    cost_hist = []\n",
        "    for i in range(0, max_iteration):\n",
        "        loss, cost = cost_fuc(A, b, x, m)\n",
        "        gradient = gradient_func(ATrans, loss, m)\n",
        "        x = x - alpha * gradient\n",
        "        \n",
        "        alpha = alfa_func(alpha, m, i)\n",
        "        \n",
        "        prediction = np.dot(A_train, x)\n",
        "        l2norm_error = np.sqrt(np.sum((prediction - b_train)**2))\n",
        "        \n",
        "        if (i % 1000) == 0 and debug_info:\n",
        "          print(\"Iteration %d | Cost: %f | Error: %f | Alpha: %f\" % (i, cost, l2norm_error, alpha))\n",
        "        \n",
        "        if(i == 0):\n",
        "          first_error = l2norm_error\n",
        "          first_cost = cost\n",
        "          \n",
        "        populate_error_cost_hist(error_hist, cost_hist, i, cost, l2norm_error, first_cost, first_error)\n",
        "    return x, error_hist, cost_hist"
      ],
      "execution_count": 0,
      "outputs": []
    },
    {
      "metadata": {
        "id": "crML9PHZeRxC",
        "colab_type": "text"
      },
      "cell_type": "markdown",
      "source": [
        "## Using norm L2 as a cost function\n",
        "\n",
        "Let's try using norm L2 as a cost function :\n",
        "\n",
        "\\begin{equation}\n",
        "f(x)=\\sqrt{\\sum_{i=1}^{m}\\left(h\\left(a_{i}\\right) - b\\right)^2}\n",
        "\\end{equation}\n",
        "\n",
        "If we derivate this cost fuction we have the following result:\n",
        "\n",
        "\\begin{equation}\n",
        "f'(x)=\\frac{\\sum_{i=1}^{m} (h\\left(a_{i}\\right) - b)a_{i}}{\\sqrt{\\sum_{i=1}^{m}\\left(h\\left(a_{i}\\right) - b\\right)^2}}\n",
        "\\end{equation}\n",
        "\n"
      ]
    },
    {
      "metadata": {
        "id": "N390PrHrfjA5",
        "colab_type": "code",
        "colab": {}
      },
      "cell_type": "code",
      "source": [
        "def cost_l2(A, b, x, m):\n",
        "  loss = np.dot(A, x) - b\n",
        "  cost = np.sqrt(np.sum((loss) ** 2))\n",
        "  return loss, cost\n",
        "\n",
        "def gradient_l2(ATrans, loss, m):\n",
        "  return np.dot(ATrans, loss) / np.sqrt(np.sum((loss) ** 2))"
      ],
      "execution_count": 0,
      "outputs": []
    },
    {
      "metadata": {
        "id": "rEsNbpYzcOen",
        "colab_type": "text"
      },
      "cell_type": "markdown",
      "source": [
        "## Using mean square error function\n",
        "\n",
        "Let's try another cost function, this one is known as mean square error function:\n",
        "\n",
        "\\begin{equation}\n",
        "f(x)=\\frac{1}{2m} \\sum_{i=1}^{m}\\left(h\\left(a_{i}\\right) - b\\right)^2\n",
        "\\end{equation}\n",
        "\n",
        "If we derivate this cost fuction we have the following result:\n",
        "\n",
        "\\begin{equation}\n",
        "f'(x)=\\frac{1}{m} \\sum_{i=1}^{m}\\left(h\\left(a_{i}\\right) - b\\right)a\n",
        "\\end{equation}\n"
      ]
    },
    {
      "metadata": {
        "id": "cyzOEN9MVqzZ",
        "colab_type": "code",
        "colab": {}
      },
      "cell_type": "code",
      "source": [
        "def cost_mean_square_error(A, b, x, m):\n",
        "  loss = np.dot(A, x) - b\n",
        "  cost = np.sum((loss) ** 2) / (2 * m)\n",
        "  return loss, cost\n",
        "\n",
        "def gradient_mean_square_error(ATrans, loss, m):\n",
        "  return np.dot(ATrans, loss) / m"
      ],
      "execution_count": 0,
      "outputs": []
    },
    {
      "metadata": {
        "id": "dvy-KZ4WhRHi",
        "colab_type": "text"
      },
      "cell_type": "markdown",
      "source": [
        "## Alpha reduction\n",
        "\n",
        "There are several ways to reduce $\\alpha$ as the model progresses. Here are two examples: "
      ]
    },
    {
      "metadata": {
        "id": "kG16SJJNhdEH",
        "colab_type": "code",
        "colab": {}
      },
      "cell_type": "code",
      "source": [
        "def alpha_reduction(alpha, m, i):\n",
        "  return alpha - (alpha/(np.e * m))\n",
        "\n",
        "def alpha_slow_reduction(alpha, m, i):\n",
        "  if (i % 100) == 0:\n",
        "    alpha = alpha - (alpha/(np.e * m))\n",
        "  return alpha\n"
      ],
      "execution_count": 0,
      "outputs": []
    },
    {
      "metadata": {
        "id": "w5ZN4V7thjgG",
        "colab_type": "text"
      },
      "cell_type": "markdown",
      "source": [
        "# Experiments\n",
        "\n",
        "Let's try first with 10000 iterations and an alpha starting at 0.5 with all columns, using mean square error cost function."
      ]
    },
    {
      "metadata": {
        "id": "y3zyKenbhtbd",
        "colab_type": "code",
        "outputId": "5ef89e4b-7bbb-4b0e-b65c-c10be7925f2b",
        "colab": {
          "base_uri": "https://localhost:8080/",
          "height": 578
        }
      },
      "cell_type": "code",
      "source": [
        "max_iterations= 10000\n",
        "alpha = 0.5\n",
        "\n",
        "x, error_hist, cost_hist = gradient_descent(A_train, b_train, x, alpha, m, max_iterations, \n",
        "                                            cost_mean_square_error, \n",
        "                                            gradient_mean_square_error, \n",
        "                                            alpha_reduction, True)\n",
        "\n",
        "prediction = np.dot(A_test, x)\n",
        "print(prediction)\n",
        "\n",
        "\n",
        "axes = plt.subplots()[1]\n",
        "axes.plot(error_hist, color='green', label='Loss')\n",
        "axes.plot(cost_hist, color='orange', label='cost')\n",
        "plt.legend(loc='upper right')\n",
        "plt.xlabel('Iterations')\n",
        "plt.ylabel('Percentage')\n",
        "plt.title('Norma L2 modificada')\n",
        "plt.show()\n"
      ],
      "execution_count": 0,
      "outputs": [
        {
          "output_type": "stream",
          "text": [
            "Iteration 0 | Cost: 26239946.965241 | Error: 592884.500400 | Alpha: 0.499993\n",
            "Iteration 1000 | Cost: 1032352.584703 | Error: 235963.315488 | Alpha: 0.493219\n",
            "Iteration 2000 | Cost: 958856.391235 | Error: 227416.414802 | Alpha: 0.486537\n",
            "Iteration 3000 | Cost: 925520.809352 | Error: 223430.787057 | Alpha: 0.479946\n",
            "Iteration 4000 | Cost: 907812.064348 | Error: 221284.175050 | Alpha: 0.473444\n",
            "Iteration 5000 | Cost: 898047.212042 | Error: 220091.524073 | Alpha: 0.467029\n",
            "Iteration 6000 | Cost: 892583.872039 | Error: 219421.411495 | Alpha: 0.460702\n",
            "Iteration 7000 | Cost: 889492.674899 | Error: 219041.344576 | Alpha: 0.454461\n",
            "Iteration 8000 | Cost: 887722.893735 | Error: 218823.447664 | Alpha: 0.448304\n",
            "Iteration 9000 | Cost: 886695.720196 | Error: 218696.879756 | Alpha: 0.442230\n",
            "[-325202.92432231 -327438.06265672 -324872.52765623 ... -359176.90655288\n",
            " -373259.88610909 -373635.506887  ]\n"
          ],
          "name": "stdout"
        },
        {
          "output_type": "display_data",
          "data": {
            "image/png": "[encoded data removed]",
            "text/plain": [
              "<Figure size 576x396 with 1 Axes>"
            ]
          },
          "metadata": {
            "tags": []
          }
        }
      ]
    },
    {
      "metadata": {
        "id": "jVleggN1t16E",
        "colab_type": "text"
      },
      "cell_type": "markdown",
      "source": [
        "## Experiment removing non-related columns\n",
        "\n"
      ]
    },
    {
      "metadata": {
        "id": "8tM47jfDt9Hw",
        "colab_type": "code",
        "outputId": "d501ae32-97e9-4e59-ea54-0ea2bf6a4df2",
        "colab": {
          "base_uri": "https://localhost:8080/",
          "height": 578
        }
      },
      "cell_type": "code",
      "source": [
        "A_train = matrix[0:train_size,[0,7,8,9]]\n",
        "b_train = matrix[0:train_size,6]\n",
        "\n",
        "A_test = matrix[train_size:-1,[0,7,8,9]]\n",
        "b_test = matrix[train_size:-1,6]\n",
        "\n",
        "# se inicializan m y n, como las filas y las columnas de A\n",
        "m, n = np.shape(A_train)\n",
        "\n",
        "# se inicializa como puros unos\n",
        "x = np.ones(n)\n",
        "\n",
        "max_iterations= 10000\n",
        "alpha = 0.015\n",
        "\n",
        "x, error_hist, cost_hist = gradient_descent(A_train, b_train, x, alpha, m, max_iterations, \n",
        "                                            cost_l2, \n",
        "                                            gradient_l2, \n",
        "                                            alpha_reduction, True)\n",
        "\n",
        "prediction = np.dot(A_test, x)\n",
        "print(prediction)\n",
        "\n",
        "\n",
        "axes = plt.subplots()[1]\n",
        "axes.plot(error_hist, color='green', label='Loss')\n",
        "axes.plot(cost_hist, color='orange', label='cost')\n",
        "plt.legend(loc='upper right')\n",
        "plt.xlabel('Iterations')\n",
        "plt.ylabel('Percentage')\n",
        "plt.title('Norma L2 modificada')\n",
        "plt.show()"
      ],
      "execution_count": 0,
      "outputs": [
        {
          "output_type": "stream",
          "text": [
            "Iteration 0 | Cost: 1187556.905883 | Error: 1153622.966552 | Alpha: 0.015000\n",
            "Iteration 1000 | Cost: 490099.940035 | Error: 490081.724895 | Alpha: 0.014797\n",
            "Iteration 2000 | Cost: 472493.042689 | Error: 472476.046551 | Alpha: 0.014596\n",
            "Iteration 3000 | Cost: 456107.621084 | Error: 456091.847438 | Alpha: 0.014398\n",
            "Iteration 4000 | Cost: 440942.585857 | Error: 440928.028838 | Alpha: 0.014203\n",
            "Iteration 5000 | Cost: 426986.993527 | Error: 426973.636978 | Alpha: 0.014011\n",
            "Iteration 6000 | Cost: 414219.319981 | Error: 414207.136961 | Alpha: 0.013821\n",
            "Iteration 7000 | Cost: 402607.230125 | Error: 402596.182950 | Alpha: 0.013634\n",
            "Iteration 8000 | Cost: 392107.911397 | Error: 392097.952267 | Alpha: 0.013449\n",
            "Iteration 9000 | Cost: 382668.978133 | Error: 382660.050306 | Alpha: 0.013267\n",
            "[ 8787.25955953 11942.5257073  11091.47918325 ...  4510.84920607\n",
            "  4414.68016209  5229.26241276]\n"
          ],
          "name": "stdout"
        },
        {
          "output_type": "display_data",
          "data": {
            "image/png": "[encoded data removed]",
            "text/plain": [
              "<Figure size 576x396 with 1 Axes>"
            ]
          },
          "metadata": {
            "tags": []
          }
        }
      ]
    },
    {
      "metadata": {
        "id": "B5-WQMAxpkkU",
        "colab_type": "text"
      },
      "cell_type": "markdown",
      "source": [
        "## Comparing our results against least square method\n",
        "\n",
        "Let's select the best configuration and compare it with leas square method that we know it's an exact way to find a mininum for this example."
      ]
    },
    {
      "metadata": {
        "id": "odGMgdj9p2Tq",
        "colab_type": "code",
        "outputId": "63417839-013f-4982-df5b-6d1248761e21",
        "colab": {
          "base_uri": "https://localhost:8080/",
          "height": 272
        }
      },
      "cell_type": "code",
      "source": [
        "x, error_hist, cost_hist = gradient_descent(A_train, b_train, x, alpha, m, max_iterations, \n",
        "                                            cost_mean_square_error, \n",
        "                                            gradient_mean_square_error, \n",
        "                                            alpha_reduction, True)\n",
        "prediction = np.dot(A_test, x)\n",
        "prediction_error = np.sqrt(np.sum((prediction - b_test)**2))\n",
        "\n",
        "lstsqr_x = np.linalg.lstsq(A_test, b_test)[0]\n",
        "lstsqr_prediction = np.dot(A_test, lstsqr_x)\n",
        "lstsqr_prediction_error = np.sqrt(np.sum((lstsqr_prediction - b_test)**2))\n",
        "\n",
        "print(\"Our Model Prediction Error %f | Numpy Least Square Prediction Error: %f\" % (prediction_error, lstsqr_prediction_error))"
      ],
      "execution_count": 0,
      "outputs": [
        {
          "output_type": "stream",
          "text": [
            "Iteration 0 | Cost: 2596366.485682 | Error: 374103.333534 | Alpha: 0.015000\n",
            "Iteration 1000 | Cost: 1912283.719119 | Error: 321152.644035 | Alpha: 0.014797\n",
            "Iteration 2000 | Cost: 1840640.651563 | Error: 315092.149707 | Alpha: 0.014596\n",
            "Iteration 3000 | Cost: 1831920.537628 | Error: 314346.368088 | Alpha: 0.014398\n",
            "Iteration 4000 | Cost: 1830527.872205 | Error: 314227.053561 | Alpha: 0.014203\n",
            "Iteration 5000 | Cost: 1830170.054520 | Error: 314196.373628 | Alpha: 0.014011\n",
            "Iteration 6000 | Cost: 1830014.175034 | Error: 314183.001438 | Alpha: 0.013821\n",
            "Iteration 7000 | Cost: 1829921.964492 | Error: 314175.089374 | Alpha: 0.013634\n",
            "Iteration 8000 | Cost: 1829860.842275 | Error: 314169.844387 | Alpha: 0.013449\n",
            "Iteration 9000 | Cost: 1829818.756999 | Error: 314166.232858 | Alpha: 0.013267\n",
            "Our Model Prediction Error 168506.339221 | Numpy Least Square Prediction Error: 159606.531461\n"
          ],
          "name": "stdout"
        },
        {
          "output_type": "stream",
          "text": [
            "/usr/local/lib/python3.6/dist-packages/ipykernel_launcher.py:8: FutureWarning: `rcond` parameter will change to the default of machine precision times ``max(M, N)`` where M and N are the input matrix dimensions.\n",
            "To use the future default and silence this warning we advise to pass `rcond=None`, to keep using the old, explicitly pass `rcond=-1`.\n",
            "  \n"
          ],
          "name": "stderr"
        }
      ]
    }
  ]
}